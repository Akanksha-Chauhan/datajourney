{
 "cells": [
  {
   "cell_type": "code",
   "execution_count": 118,
   "metadata": {},
   "outputs": [],
   "source": [
    "import numpy as np \n",
    "import math \n",
    "import pandas as pd\n",
    "import seaborn as sn\n",
    "from sklearn import preprocessing\n",
    "from numpy import asarray\n",
    "%matplotlib inline"
   ]
  },
  {
   "cell_type": "code",
   "execution_count": 88,
   "metadata": {},
   "outputs": [
    {
     "data": {
      "text/plain": [
       "[18, 8, 22, 10, 12, 5, 4, 32, 2, 9, 16, 25, 26, 28]"
      ]
     },
     "execution_count": 88,
     "metadata": {},
     "output_type": "execute_result"
    }
   ],
   "source": [
    "#data\n",
    "data = [18, 8, 22, 10, 12, 5, 4, 32, 2, 9, 16, 25, 26, 28] \n",
    "#no of bins \n",
    "m = 3\n",
    "data"
   ]
  },
  {
   "cell_type": "code",
   "execution_count": 89,
   "metadata": {},
   "outputs": [],
   "source": [
    "def equiwidthbinning(arr1, m): \n",
    "    a = len(arr1) \n",
    "    w = int((max(arr1) - min(arr1)) / m) \n",
    "    min1 = min(arr1) \n",
    "    arr = [] \n",
    "    for i in range(0, m + 1): \n",
    "        arr = arr + [min1 + w * i] \n",
    "    arri=[] \n",
    "      \n",
    "    for i in range(0, m): \n",
    "        temp = [] \n",
    "        for j in arr1: \n",
    "            if j >= arr[i] and j <= arr[i+1]: \n",
    "                temp += [j] \n",
    "        arri += [temp] \n",
    "    print(arri)  "
   ]
  },
  {
   "cell_type": "code",
   "execution_count": 90,
   "metadata": {},
   "outputs": [
    {
     "name": "stdout",
     "output_type": "stream",
     "text": [
      "\n",
      " Data after being put into 3 equal bins \n",
      "[[8, 10, 12, 5, 4, 2, 9], [18, 22, 12, 16], [22, 32, 25, 26, 28]]\n"
     ]
    }
   ],
   "source": [
    "print(\"\\n Data after being put into 3 equal bins \") \n",
    "equiwidthbinning(data, 3)\n"
   ]
  },
  {
   "cell_type": "code",
   "execution_count": 91,
   "metadata": {},
   "outputs": [],
   "source": [
    "a = [8, 10, 12, 5, 4, 2, 9]\n",
    "b = [18, 22, 12, 16]\n",
    "c = [22, 32, 25, 26, 28]"
   ]
  },
  {
   "cell_type": "code",
   "execution_count": 92,
   "metadata": {},
   "outputs": [
    {
     "data": {
      "text/plain": [
       "[2, 4, 5, 8, 9, 10, 12]"
      ]
     },
     "execution_count": 92,
     "metadata": {},
     "output_type": "execute_result"
    }
   ],
   "source": [
    "a\n",
    "a.sort()\n",
    "a"
   ]
  },
  {
   "cell_type": "code",
   "execution_count": 93,
   "metadata": {},
   "outputs": [
    {
     "data": {
      "text/plain": [
       "[12, 16, 18, 22]"
      ]
     },
     "execution_count": 93,
     "metadata": {},
     "output_type": "execute_result"
    }
   ],
   "source": [
    "b.sort()\n",
    "b"
   ]
  },
  {
   "cell_type": "code",
   "execution_count": 94,
   "metadata": {},
   "outputs": [
    {
     "data": {
      "text/plain": [
       "[22, 25, 26, 28, 32]"
      ]
     },
     "execution_count": 94,
     "metadata": {},
     "output_type": "execute_result"
    }
   ],
   "source": [
    "c.sort()\n",
    "c"
   ]
  },
  {
   "cell_type": "code",
   "execution_count": 96,
   "metadata": {},
   "outputs": [],
   "source": [
    "bin1= [18, 8, 22, 10]\n",
    "bin2= [12, 5, 4, 32]\n",
    "bin3= [2, 9, 16, 25]"
   ]
  },
  {
   "cell_type": "code",
   "execution_count": null,
   "metadata": {},
   "outputs": [],
   "source": [
    "#Normalize the same data above with three techniques:\n",
    "#min-max (to range 10 to 20),\n",
    "#standardization,\n",
    "#and decimal scaling.\n",
    "#What value gets mapped to 0 in each case? What are the min and max values after normalization with each?\n",
    "\n",
    "18, 8, 22, 10, 12, 5, 4, 32, 2, 9, 16, 25, 26, 28\n",
    "\n"
   ]
  },
  {
   "cell_type": "code",
   "execution_count": 133,
   "metadata": {},
   "outputs": [
    {
     "name": "stdout",
     "output_type": "stream",
     "text": [
      "[[15.33333333]\n",
      " [12.        ]\n",
      " [16.66666667]\n",
      " [12.66666667]\n",
      " [13.33333333]\n",
      " [11.        ]\n",
      " [10.66666667]\n",
      " [20.        ]\n",
      " [10.        ]\n",
      " [12.33333333]\n",
      " [14.66666667]\n",
      " [17.66666667]\n",
      " [18.        ]\n",
      " [18.66666667]]\n"
     ]
    }
   ],
   "source": [
    "#Normalize the same data above with three techniques:\n",
    "#min-max (to range 10 to 20),\n",
    "data = np.array([18, 8, 22, 10, 12, 5, 4, 32, 2, 9, 16, 25, 26, 28]).reshape(-1, 1)\n",
    "scaler = MinMaxScaler(feature_range=(10, 20))\n",
    "scaler.fit(data)\n",
    "print(scaler.transform(data))\n",
    "y = scaler.transform(data)\n",
    "#What value gets mapped to 0 in each case?\n",
    "#What are the min and max values after normalization with each?\n"
   ]
  },
  {
   "cell_type": "code",
   "execution_count": 140,
   "metadata": {},
   "outputs": [
    {
     "name": "stdout",
     "output_type": "stream",
     "text": [
      "Minimum value after Min-Max normalization is : 10.0\n",
      "Maximum value after Min-Max normalization is : 20.0\n"
     ]
    }
   ],
   "source": [
    "print(\"Minimum value after Min-Max normalization is :\",y.min())\n",
    "print(\"Maximum value after Min-Max normalization is :\",y.max())"
   ]
  },
  {
   "cell_type": "code",
   "execution_count": 149,
   "metadata": {},
   "outputs": [
    {
     "name": "stdout",
     "output_type": "stream",
     "text": [
      "After standardizing, the new values are  [[ 0.26526572]\n",
      " [-0.79579716]\n",
      " [ 0.68969087]\n",
      " [-0.58358459]\n",
      " [-0.37137201]\n",
      " [-1.11411603]\n",
      " [-1.22022232]\n",
      " [ 1.75075376]\n",
      " [-1.43243489]\n",
      " [-0.68969087]\n",
      " [ 0.05305314]\n",
      " [ 1.00800974]\n",
      " [ 1.11411603]\n",
      " [ 1.3263286 ]]\n"
     ]
    }
   ],
   "source": [
    "#Standardization\n",
    "# standardization of dependent variables\n",
    "standard = preprocessing.scale(data)\n",
    "print(\"After standardizing, the new values are \",standard)"
   ]
  },
  {
   "cell_type": "code",
   "execution_count": 153,
   "metadata": {},
   "outputs": [
    {
     "name": "stdout",
     "output_type": "stream",
     "text": [
      "Max value after standardizing is 1.7507537580570904\n",
      "Min value after standardizing is -1.4324348929558013\n"
     ]
    }
   ],
   "source": [
    "print(\"Max value after standardizing is\",standard.max())\n",
    "print(\"Min value after standardizing is\",standard.min())"
   ]
  },
  {
   "cell_type": "code",
   "execution_count": 169,
   "metadata": {},
   "outputs": [
    {
     "data": {
      "text/html": [
       "<div>\n",
       "<style scoped>\n",
       "    .dataframe tbody tr th:only-of-type {\n",
       "        vertical-align: middle;\n",
       "    }\n",
       "\n",
       "    .dataframe tbody tr th {\n",
       "        vertical-align: top;\n",
       "    }\n",
       "\n",
       "    .dataframe thead th {\n",
       "        text-align: right;\n",
       "    }\n",
       "</style>\n",
       "<table border=\"1\" class=\"dataframe\">\n",
       "  <thead>\n",
       "    <tr style=\"text-align: right;\">\n",
       "      <th></th>\n",
       "      <th>Column</th>\n",
       "    </tr>\n",
       "  </thead>\n",
       "  <tbody>\n",
       "    <tr>\n",
       "      <th>0</th>\n",
       "      <td>18</td>\n",
       "    </tr>\n",
       "    <tr>\n",
       "      <th>1</th>\n",
       "      <td>8</td>\n",
       "    </tr>\n",
       "    <tr>\n",
       "      <th>2</th>\n",
       "      <td>22</td>\n",
       "    </tr>\n",
       "    <tr>\n",
       "      <th>3</th>\n",
       "      <td>10</td>\n",
       "    </tr>\n",
       "    <tr>\n",
       "      <th>4</th>\n",
       "      <td>12</td>\n",
       "    </tr>\n",
       "    <tr>\n",
       "      <th>5</th>\n",
       "      <td>5</td>\n",
       "    </tr>\n",
       "    <tr>\n",
       "      <th>6</th>\n",
       "      <td>4</td>\n",
       "    </tr>\n",
       "    <tr>\n",
       "      <th>7</th>\n",
       "      <td>32</td>\n",
       "    </tr>\n",
       "    <tr>\n",
       "      <th>8</th>\n",
       "      <td>2</td>\n",
       "    </tr>\n",
       "    <tr>\n",
       "      <th>9</th>\n",
       "      <td>9</td>\n",
       "    </tr>\n",
       "    <tr>\n",
       "      <th>10</th>\n",
       "      <td>16</td>\n",
       "    </tr>\n",
       "    <tr>\n",
       "      <th>11</th>\n",
       "      <td>25</td>\n",
       "    </tr>\n",
       "    <tr>\n",
       "      <th>12</th>\n",
       "      <td>26</td>\n",
       "    </tr>\n",
       "    <tr>\n",
       "      <th>13</th>\n",
       "      <td>28</td>\n",
       "    </tr>\n",
       "  </tbody>\n",
       "</table>\n",
       "</div>"
      ],
      "text/plain": [
       "    Column\n",
       "0       18\n",
       "1        8\n",
       "2       22\n",
       "3       10\n",
       "4       12\n",
       "5        5\n",
       "6        4\n",
       "7       32\n",
       "8        2\n",
       "9        9\n",
       "10      16\n",
       "11      25\n",
       "12      26\n",
       "13      28"
      ]
     },
     "execution_count": 169,
     "metadata": {},
     "output_type": "execute_result"
    }
   ],
   "source": [
    "df = pd.DataFrame(data, columns=['Column'])\n",
    "df"
   ]
  },
  {
   "cell_type": "code",
   "execution_count": 170,
   "metadata": {},
   "outputs": [
    {
     "name": "stdout",
     "output_type": "stream",
     "text": [
      "    Column\n",
      "0       18\n",
      "1        8\n",
      "2       22\n",
      "3       10\n",
      "4       12\n",
      "5        5\n",
      "6        4\n",
      "7       32\n",
      "8        2\n",
      "9        9\n",
      "10      16\n",
      "11      25\n",
      "12      26\n",
      "13      28\n",
      "After using decimal scaling, the new values are df \n",
      "     Column\n",
      "0     0.18\n",
      "1     0.08\n",
      "2     0.22\n",
      "3     0.10\n",
      "4     0.12\n",
      "5     0.05\n",
      "6     0.04\n",
      "7     0.32\n",
      "8     0.02\n",
      "9     0.09\n",
      "10    0.16\n",
      "11    0.25\n",
      "12    0.26\n",
      "13    0.28\n"
     ]
    }
   ],
   "source": [
    "def Dec_scale(df):\n",
    "    for x in df:\n",
    "        print(df)\n",
    "        p = df[x].max()\n",
    "        q = len(str(abs(p)))\n",
    "        df[x] = df[x]/10**q \n",
    "\n",
    "Dec_scale(df)\n",
    "print(\"After using decimal scaling, the new values are df \\n\",df)"
   ]
  },
  {
   "cell_type": "code",
   "execution_count": 171,
   "metadata": {},
   "outputs": [
    {
     "name": "stdout",
     "output_type": "stream",
     "text": [
      "    Column\n",
      "0    18.50\n",
      "1     8.44\n",
      "2    22.00\n",
      "3    10.00\n",
      "4    12.00\n",
      "5     5.00\n",
      "6     4.00\n",
      "7    32.00\n",
      "8     2.00\n",
      "9     9.00\n",
      "10   16.00\n",
      "11   25.00\n",
      "12   26.00\n",
      "13   28.00\n",
      "    Column\n",
      "0    18.50\n",
      "1     8.44\n",
      "2    22.00\n",
      "3    10.00\n",
      "4    12.00\n",
      "5     5.00\n",
      "6     4.00\n",
      "7    32.00\n",
      "8     2.00\n",
      "9     9.00\n",
      "10   16.00\n",
      "11   25.00\n",
      "12   26.00\n",
      "13   28.00\n",
      "After using decimal scaling, the new values are df \n",
      "       Column\n",
      "0   0.001850\n",
      "1   0.000844\n",
      "2   0.002200\n",
      "3   0.001000\n",
      "4   0.001200\n",
      "5   0.000500\n",
      "6   0.000400\n",
      "7   0.003200\n",
      "8   0.000200\n",
      "9   0.000900\n",
      "10  0.001600\n",
      "11  0.002500\n",
      "12  0.002600\n",
      "13  0.002800\n"
     ]
    }
   ],
   "source": [
    "data3 = np.array([18.5, 8.44, 22, 10, 12, 5, 4, 32, 2, 9, 16, 25, 26, 28]).reshape(-1, 1)\n",
    "df = pd.DataFrame(data3, columns=['Column'])\n",
    "print(df)\n",
    "def Dec_scale(df):\n",
    "    for x in df:\n",
    "        print(df)\n",
    "        p = df[x].max()\n",
    "        q = len(str(abs(p)))\n",
    "        df[x] = df[x]/10**q \n",
    "\n",
    "Dec_scale(df)\n",
    "print(\"After using decimal scaling, the new values are df \\n\",df)"
   ]
  }
 ],
 "metadata": {
  "kernelspec": {
   "display_name": "Python 3",
   "language": "python",
   "name": "python3"
  },
  "language_info": {
   "codemirror_mode": {
    "name": "ipython",
    "version": 3
   },
   "file_extension": ".py",
   "mimetype": "text/x-python",
   "name": "python",
   "nbconvert_exporter": "python",
   "pygments_lexer": "ipython3",
   "version": "3.8.5"
  }
 },
 "nbformat": 4,
 "nbformat_minor": 4
}
