{
 "cells": [
  {
   "cell_type": "code",
   "execution_count": 6,
   "metadata": {},
   "outputs": [],
   "source": [
    "import numpy as np\n",
    "import matplotlib.pyplot as plt\n",
    "import pandas as pd\n",
    "import seaborn as sn\n",
    "%matplotlib inline \n",
    "from sklearn.ensemble import IsolationForest\n",
    "from sklearn.preprocessing import MinMaxScaler"
   ]
  },
  {
   "cell_type": "code",
   "execution_count": 7,
   "metadata": {},
   "outputs": [
    {
     "data": {
      "text/html": [
       "<div>\n",
       "<style scoped>\n",
       "    .dataframe tbody tr th:only-of-type {\n",
       "        vertical-align: middle;\n",
       "    }\n",
       "\n",
       "    .dataframe tbody tr th {\n",
       "        vertical-align: top;\n",
       "    }\n",
       "\n",
       "    .dataframe thead th {\n",
       "        text-align: right;\n",
       "    }\n",
       "</style>\n",
       "<table border=\"1\" class=\"dataframe\">\n",
       "  <thead>\n",
       "    <tr style=\"text-align: right;\">\n",
       "      <th></th>\n",
       "      <th>cont1</th>\n",
       "      <th>cont2</th>\n",
       "      <th>cont3</th>\n",
       "      <th>bool1</th>\n",
       "      <th>bool2</th>\n",
       "      <th>cont4</th>\n",
       "      <th>bool3</th>\n",
       "      <th>cont5</th>\n",
       "      <th>cont6</th>\n",
       "      <th>approval</th>\n",
       "      <th>credit.score</th>\n",
       "      <th>ages</th>\n",
       "    </tr>\n",
       "  </thead>\n",
       "  <tbody>\n",
       "    <tr>\n",
       "      <th>0</th>\n",
       "      <td>30.83</td>\n",
       "      <td>0.000</td>\n",
       "      <td>1.25</td>\n",
       "      <td>t</td>\n",
       "      <td>t</td>\n",
       "      <td>1</td>\n",
       "      <td>f</td>\n",
       "      <td>202.0</td>\n",
       "      <td>0</td>\n",
       "      <td>+</td>\n",
       "      <td>664.60</td>\n",
       "      <td>42</td>\n",
       "    </tr>\n",
       "    <tr>\n",
       "      <th>1</th>\n",
       "      <td>58.67</td>\n",
       "      <td>4.460</td>\n",
       "      <td>3.04</td>\n",
       "      <td>t</td>\n",
       "      <td>t</td>\n",
       "      <td>6</td>\n",
       "      <td>f</td>\n",
       "      <td>43.0</td>\n",
       "      <td>560</td>\n",
       "      <td>+</td>\n",
       "      <td>693.88</td>\n",
       "      <td>54</td>\n",
       "    </tr>\n",
       "    <tr>\n",
       "      <th>2</th>\n",
       "      <td>24.50</td>\n",
       "      <td>0.500</td>\n",
       "      <td>1.50</td>\n",
       "      <td>t</td>\n",
       "      <td>f</td>\n",
       "      <td>0</td>\n",
       "      <td>f</td>\n",
       "      <td>280.0</td>\n",
       "      <td>824</td>\n",
       "      <td>+</td>\n",
       "      <td>621.82</td>\n",
       "      <td>29</td>\n",
       "    </tr>\n",
       "    <tr>\n",
       "      <th>3</th>\n",
       "      <td>27.83</td>\n",
       "      <td>1.540</td>\n",
       "      <td>3.75</td>\n",
       "      <td>t</td>\n",
       "      <td>t</td>\n",
       "      <td>5</td>\n",
       "      <td>t</td>\n",
       "      <td>100.0</td>\n",
       "      <td>3</td>\n",
       "      <td>+</td>\n",
       "      <td>653.97</td>\n",
       "      <td>58</td>\n",
       "    </tr>\n",
       "    <tr>\n",
       "      <th>4</th>\n",
       "      <td>20.17</td>\n",
       "      <td>5.625</td>\n",
       "      <td>1.71</td>\n",
       "      <td>t</td>\n",
       "      <td>f</td>\n",
       "      <td>0</td>\n",
       "      <td>f</td>\n",
       "      <td>120.0</td>\n",
       "      <td>0</td>\n",
       "      <td>+</td>\n",
       "      <td>670.26</td>\n",
       "      <td>65</td>\n",
       "    </tr>\n",
       "    <tr>\n",
       "      <th>...</th>\n",
       "      <td>...</td>\n",
       "      <td>...</td>\n",
       "      <td>...</td>\n",
       "      <td>...</td>\n",
       "      <td>...</td>\n",
       "      <td>...</td>\n",
       "      <td>...</td>\n",
       "      <td>...</td>\n",
       "      <td>...</td>\n",
       "      <td>...</td>\n",
       "      <td>...</td>\n",
       "      <td>...</td>\n",
       "    </tr>\n",
       "    <tr>\n",
       "      <th>685</th>\n",
       "      <td>21.08</td>\n",
       "      <td>10.085</td>\n",
       "      <td>1.25</td>\n",
       "      <td>f</td>\n",
       "      <td>f</td>\n",
       "      <td>0</td>\n",
       "      <td>f</td>\n",
       "      <td>260.0</td>\n",
       "      <td>0</td>\n",
       "      <td>-</td>\n",
       "      <td>736.22</td>\n",
       "      <td>34</td>\n",
       "    </tr>\n",
       "    <tr>\n",
       "      <th>686</th>\n",
       "      <td>22.67</td>\n",
       "      <td>0.750</td>\n",
       "      <td>2.00</td>\n",
       "      <td>f</td>\n",
       "      <td>t</td>\n",
       "      <td>2</td>\n",
       "      <td>t</td>\n",
       "      <td>200.0</td>\n",
       "      <td>394</td>\n",
       "      <td>-</td>\n",
       "      <td>643.56</td>\n",
       "      <td>46</td>\n",
       "    </tr>\n",
       "    <tr>\n",
       "      <th>687</th>\n",
       "      <td>25.25</td>\n",
       "      <td>13.500</td>\n",
       "      <td>2.00</td>\n",
       "      <td>f</td>\n",
       "      <td>t</td>\n",
       "      <td>1</td>\n",
       "      <td>t</td>\n",
       "      <td>200.0</td>\n",
       "      <td>1</td>\n",
       "      <td>-</td>\n",
       "      <td>665.36</td>\n",
       "      <td>46</td>\n",
       "    </tr>\n",
       "    <tr>\n",
       "      <th>688</th>\n",
       "      <td>17.92</td>\n",
       "      <td>0.205</td>\n",
       "      <td>0.04</td>\n",
       "      <td>f</td>\n",
       "      <td>f</td>\n",
       "      <td>0</td>\n",
       "      <td>f</td>\n",
       "      <td>280.0</td>\n",
       "      <td>750</td>\n",
       "      <td>-</td>\n",
       "      <td>716.15</td>\n",
       "      <td>42</td>\n",
       "    </tr>\n",
       "    <tr>\n",
       "      <th>689</th>\n",
       "      <td>35.00</td>\n",
       "      <td>3.375</td>\n",
       "      <td>8.29</td>\n",
       "      <td>f</td>\n",
       "      <td>f</td>\n",
       "      <td>0</td>\n",
       "      <td>t</td>\n",
       "      <td>0.0</td>\n",
       "      <td>0</td>\n",
       "      <td>-</td>\n",
       "      <td>739.94</td>\n",
       "      <td>37</td>\n",
       "    </tr>\n",
       "  </tbody>\n",
       "</table>\n",
       "<p>690 rows × 12 columns</p>\n",
       "</div>"
      ],
      "text/plain": [
       "     cont1   cont2  cont3 bool1 bool2  cont4 bool3  cont5  cont6 approval  \\\n",
       "0    30.83   0.000   1.25     t     t      1     f  202.0      0        +   \n",
       "1    58.67   4.460   3.04     t     t      6     f   43.0    560        +   \n",
       "2    24.50   0.500   1.50     t     f      0     f  280.0    824        +   \n",
       "3    27.83   1.540   3.75     t     t      5     t  100.0      3        +   \n",
       "4    20.17   5.625   1.71     t     f      0     f  120.0      0        +   \n",
       "..     ...     ...    ...   ...   ...    ...   ...    ...    ...      ...   \n",
       "685  21.08  10.085   1.25     f     f      0     f  260.0      0        -   \n",
       "686  22.67   0.750   2.00     f     t      2     t  200.0    394        -   \n",
       "687  25.25  13.500   2.00     f     t      1     t  200.0      1        -   \n",
       "688  17.92   0.205   0.04     f     f      0     f  280.0    750        -   \n",
       "689  35.00   3.375   8.29     f     f      0     t    0.0      0        -   \n",
       "\n",
       "     credit.score  ages  \n",
       "0          664.60    42  \n",
       "1          693.88    54  \n",
       "2          621.82    29  \n",
       "3          653.97    58  \n",
       "4          670.26    65  \n",
       "..            ...   ...  \n",
       "685        736.22    34  \n",
       "686        643.56    46  \n",
       "687        665.36    46  \n",
       "688        716.15    42  \n",
       "689        739.94    37  \n",
       "\n",
       "[690 rows x 12 columns]"
      ]
     },
     "execution_count": 7,
     "metadata": {},
     "output_type": "execute_result"
    }
   ],
   "source": [
    "other_path = 'C:\\\\Users\\\\Akanksha\\\\Desktop\\\\BankData.csv'\n",
    "df = pd.read_csv(other_path)\n",
    "df"
   ]
  },
  {
   "cell_type": "code",
   "execution_count": 20,
   "metadata": {},
   "outputs": [
    {
     "data": {
      "text/plain": [
       "cont1           12\n",
       "cont2            0\n",
       "cont3            0\n",
       "bool1            0\n",
       "bool2            0\n",
       "cont4            0\n",
       "bool3            0\n",
       "cont5           13\n",
       "cont6            0\n",
       "approval         0\n",
       "credit.score     0\n",
       "ages             0\n",
       "dtype: int64"
      ]
     },
     "execution_count": 20,
     "metadata": {},
     "output_type": "execute_result"
    }
   ],
   "source": [
    "df.isnull().sum()"
   ]
  },
  {
   "cell_type": "code",
   "execution_count": 21,
   "metadata": {},
   "outputs": [
    {
     "data": {
      "text/plain": [
       "cont1           12\n",
       "cont2            0\n",
       "cont3            0\n",
       "bool1            0\n",
       "bool2            0\n",
       "cont4            0\n",
       "bool3            0\n",
       "cont5           13\n",
       "cont6            0\n",
       "approval         0\n",
       "credit.score     0\n",
       "ages             0\n",
       "dtype: int64"
      ]
     },
     "execution_count": 21,
     "metadata": {},
     "output_type": "execute_result"
    }
   ],
   "source": [
    "df.isna().sum()"
   ]
  },
  {
   "cell_type": "code",
   "execution_count": 33,
   "metadata": {},
   "outputs": [
    {
     "data": {
      "text/plain": [
       "cont1           0\n",
       "cont2           0\n",
       "cont3           0\n",
       "bool1           0\n",
       "bool2           0\n",
       "cont4           0\n",
       "bool3           0\n",
       "cont5           0\n",
       "cont6           0\n",
       "approval        0\n",
       "credit.score    0\n",
       "ages            0\n",
       "dtype: int64"
      ]
     },
     "execution_count": 33,
     "metadata": {},
     "output_type": "execute_result"
    }
   ],
   "source": [
    "df = df[df.cont1.notnull()]\n",
    "df = df[df.cont5.notnull()]\n",
    "df.isnull().sum()"
   ]
  },
  {
   "cell_type": "code",
   "execution_count": 38,
   "metadata": {},
   "outputs": [
    {
     "name": "stdout",
     "output_type": "stream",
     "text": [
      "0     -0.062047\n",
      "1      2.275245\n",
      "2     -0.593478\n",
      "3     -0.313910\n",
      "4     -0.957001\n",
      "         ...   \n",
      "685   -0.880603\n",
      "686   -0.747115\n",
      "687   -0.530513\n",
      "688   -1.145899\n",
      "689    0.288043\n",
      "Name: cont1, Length: 666, dtype: float64\n",
      "New Max Value after z score normalization 4.0869816896339195\n",
      "New Min Value after z score normalization -1.495988753513139\n",
      "Old Max Value 80.25\n",
      "Old Min Value 13.75\n"
     ]
    }
   ],
   "source": [
    "df2 = df.copy()\n",
    "columns = list(df2.columns)\n",
    "df2[columns]\n",
    "df2['cont1'] = (df2['cont1'] - df2['cont1'].mean())/df2['cont1'].std(ddof=0)\n",
    "df2['cont1']\n",
    "print(df2['cont1'])\n",
    "\n",
    "#New Max/Min values after z-score normalization\n",
    "print(\"New Max Value after z score normalization\", df2['cont1'].max())\n",
    "print(\"New Min Value after z score normalization\", df2['cont1'].min())\n",
    "print(\"Old Max Value\",df['cont1'].max())\n",
    "print(\"Old Min Value\",df['cont1'].min())"
   ]
  },
  {
   "cell_type": "code",
   "execution_count": 38,
   "metadata": {},
   "outputs": [
    {
     "data": {
      "text/plain": [
       "array([[<AxesSubplot:title={'center':'ages'}>,\n",
       "        <AxesSubplot:title={'center':'credit.score'}>]], dtype=object)"
      ]
     },
     "execution_count": 38,
     "metadata": {},
     "output_type": "execute_result"
    },
    {
     "data": {
      "image/png": "[encoded data removed]",
      "text/plain": [
       "<Figure size 432x288 with 2 Axes>"
      ]
     },
     "metadata": {
      "needs_background": "light"
     },
     "output_type": "display_data"
    }
   ],
   "source": [
    "df.hist(column=[\"ages\",\"credit.score\"]) \n"
   ]
  },
  {
   "cell_type": "code",
   "execution_count": 30,
   "metadata": {},
   "outputs": [
    {
     "data": {
      "text/plain": [
       "array([[<AxesSubplot:title={'center':'cont1'}>,\n",
       "        <AxesSubplot:title={'center':'cont5'}>]], dtype=object)"
      ]
     },
     "execution_count": 30,
     "metadata": {},
     "output_type": "execute_result"
    },
    {
     "data": {
      "image/png": "[encoded data removed]",
      "text/plain": [
       "<Figure size 432x288 with 2 Axes>"
      ]
     },
     "metadata": {
      "needs_background": "light"
     },
     "output_type": "display_data"
    }
   ],
   "source": [
    "df.hist(column=[\"cont1\",\"cont5\"]) "
   ]
  },
  {
   "cell_type": "code",
   "execution_count": 29,
   "metadata": {},
   "outputs": [
    {
     "data": {
      "text/plain": [
       "array([[<AxesSubplot:title={'center':'cont1'}>,\n",
       "        <AxesSubplot:title={'center':'cont2'}>]], dtype=object)"
      ]
     },
     "execution_count": 29,
     "metadata": {},
     "output_type": "execute_result"
    },
    {
     "data": {
      "image/png": "[encoded data removed]",
      "text/plain": [
       "<Figure size 432x288 with 2 Axes>"
      ]
     },
     "metadata": {
      "needs_background": "light"
     },
     "output_type": "display_data"
    }
   ],
   "source": [
    "df.hist(column=[\"cont1\",\"cont2\"]) "
   ]
  },
  {
   "cell_type": "code",
   "execution_count": 63,
   "metadata": {},
   "outputs": [
    {
     "data": {
      "text/plain": [
       "array([[<AxesSubplot:title={'center':'cont3'}>,\n",
       "        <AxesSubplot:title={'center':'cont4'}>]], dtype=object)"
      ]
     },
     "execution_count": 63,
     "metadata": {},
     "output_type": "execute_result"
    },
    {
     "data": {
      "image/png": "[encoded data removed]",
      "text/plain": [
       "<Figure size 432x288 with 2 Axes>"
      ]
     },
     "metadata": {
      "needs_background": "light"
     },
     "output_type": "display_data"
    }
   ],
   "source": [
    "df.hist(column=[\"cont3\",\"cont4\"]) "
   ]
  },
  {
   "cell_type": "code",
   "execution_count": 65,
   "metadata": {},
   "outputs": [
    {
     "data": {
      "text/plain": [
       "array([[<AxesSubplot:title={'center':'cont5'}>,\n",
       "        <AxesSubplot:title={'center':'cont6'}>]], dtype=object)"
      ]
     },
     "execution_count": 65,
     "metadata": {},
     "output_type": "execute_result"
    },
    {
     "data": {
      "image/png": "[encoded data removed]",
      "text/plain": [
       "<Figure size 432x288 with 2 Axes>"
      ]
     },
     "metadata": {
      "needs_background": "light"
     },
     "output_type": "display_data"
    }
   ],
   "source": [
    "df.hist(column=[\"cont5\",\"cont6\"]) "
   ]
  },
  {
   "cell_type": "code",
   "execution_count": 147,
   "metadata": {},
   "outputs": [
    {
     "data": {
      "text/plain": [
       "<AxesSubplot:>"
      ]
     },
     "execution_count": 147,
     "metadata": {},
     "output_type": "execute_result"
    },
    {
     "data": {
      "image/png": "[encoded data removed]",
      "text/plain": [
       "<Figure size 360x216 with 1 Axes>"
      ]
     },
     "metadata": {
      "needs_background": "light"
     },
     "output_type": "display_data"
    }
   ],
   "source": [
    "df['bool2'].value_counts().plot(kind='bar',figsize=(5,3))"
   ]
  },
  {
   "cell_type": "code",
   "execution_count": 56,
   "metadata": {},
   "outputs": [
    {
     "data": {
      "text/plain": [
       "<AxesSubplot:>"
      ]
     },
     "execution_count": 56,
     "metadata": {},
     "output_type": "execute_result"
    },
    {
     "data": {
      "image/png": "[encoded data removed]",
      "text/plain": [
       "<Figure size 360x216 with 1 Axes>"
      ]
     },
     "metadata": {
      "needs_background": "light"
     },
     "output_type": "display_data"
    }
   ],
   "source": [
    "df['bool3'].value_counts().plot(kind='bar',figsize=(5,3))"
   ]
  },
  {
   "cell_type": "code",
   "execution_count": 67,
   "metadata": {},
   "outputs": [
    {
     "data": {
      "text/plain": [
       "<AxesSubplot:>"
      ]
     },
     "execution_count": 67,
     "metadata": {},
     "output_type": "execute_result"
    },
    {
     "data": {
      "image/png": "[encoded data removed]",
      "text/plain": [
       "<Figure size 360x216 with 1 Axes>"
      ]
     },
     "metadata": {
      "needs_background": "light"
     },
     "output_type": "display_data"
    }
   ],
   "source": [
    "df['approval'].value_counts().plot(kind='bar',figsize=(5,3))"
   ]
  },
  {
   "cell_type": "code",
   "execution_count": 69,
   "metadata": {},
   "outputs": [
    {
     "data": {
      "text/html": [
       "<div>\n",
       "<style scoped>\n",
       "    .dataframe tbody tr th:only-of-type {\n",
       "        vertical-align: middle;\n",
       "    }\n",
       "\n",
       "    .dataframe tbody tr th {\n",
       "        vertical-align: top;\n",
       "    }\n",
       "\n",
       "    .dataframe thead th {\n",
       "        text-align: right;\n",
       "    }\n",
       "</style>\n",
       "<table border=\"1\" class=\"dataframe\">\n",
       "  <thead>\n",
       "    <tr style=\"text-align: right;\">\n",
       "      <th></th>\n",
       "      <th>cont1</th>\n",
       "      <th>cont2</th>\n",
       "      <th>cont3</th>\n",
       "      <th>cont4</th>\n",
       "      <th>cont5</th>\n",
       "      <th>cont6</th>\n",
       "      <th>credit.score</th>\n",
       "      <th>ages</th>\n",
       "    </tr>\n",
       "  </thead>\n",
       "  <tbody>\n",
       "    <tr>\n",
       "      <th>count</th>\n",
       "      <td>678.000000</td>\n",
       "      <td>690.000000</td>\n",
       "      <td>690.000000</td>\n",
       "      <td>690.00000</td>\n",
       "      <td>677.000000</td>\n",
       "      <td>690.000000</td>\n",
       "      <td>690.000000</td>\n",
       "      <td>690.000000</td>\n",
       "    </tr>\n",
       "    <tr>\n",
       "      <th>mean</th>\n",
       "      <td>31.568171</td>\n",
       "      <td>4.758725</td>\n",
       "      <td>2.223406</td>\n",
       "      <td>2.40000</td>\n",
       "      <td>184.014771</td>\n",
       "      <td>1017.385507</td>\n",
       "      <td>696.385130</td>\n",
       "      <td>39.673913</td>\n",
       "    </tr>\n",
       "    <tr>\n",
       "      <th>std</th>\n",
       "      <td>11.957862</td>\n",
       "      <td>4.978163</td>\n",
       "      <td>3.346513</td>\n",
       "      <td>4.86294</td>\n",
       "      <td>173.806768</td>\n",
       "      <td>5210.102598</td>\n",
       "      <td>41.926375</td>\n",
       "      <td>11.735203</td>\n",
       "    </tr>\n",
       "    <tr>\n",
       "      <th>min</th>\n",
       "      <td>13.750000</td>\n",
       "      <td>0.000000</td>\n",
       "      <td>0.000000</td>\n",
       "      <td>0.00000</td>\n",
       "      <td>0.000000</td>\n",
       "      <td>0.000000</td>\n",
       "      <td>583.660000</td>\n",
       "      <td>11.000000</td>\n",
       "    </tr>\n",
       "    <tr>\n",
       "      <th>25%</th>\n",
       "      <td>22.602500</td>\n",
       "      <td>1.000000</td>\n",
       "      <td>0.165000</td>\n",
       "      <td>0.00000</td>\n",
       "      <td>75.000000</td>\n",
       "      <td>0.000000</td>\n",
       "      <td>666.747500</td>\n",
       "      <td>31.000000</td>\n",
       "    </tr>\n",
       "    <tr>\n",
       "      <th>50%</th>\n",
       "      <td>28.460000</td>\n",
       "      <td>2.750000</td>\n",
       "      <td>1.000000</td>\n",
       "      <td>0.00000</td>\n",
       "      <td>160.000000</td>\n",
       "      <td>5.000000</td>\n",
       "      <td>697.285000</td>\n",
       "      <td>38.000000</td>\n",
       "    </tr>\n",
       "    <tr>\n",
       "      <th>75%</th>\n",
       "      <td>38.230000</td>\n",
       "      <td>7.207500</td>\n",
       "      <td>2.625000</td>\n",
       "      <td>3.00000</td>\n",
       "      <td>276.000000</td>\n",
       "      <td>395.500000</td>\n",
       "      <td>726.355000</td>\n",
       "      <td>48.000000</td>\n",
       "    </tr>\n",
       "    <tr>\n",
       "      <th>max</th>\n",
       "      <td>80.250000</td>\n",
       "      <td>28.000000</td>\n",
       "      <td>28.500000</td>\n",
       "      <td>67.00000</td>\n",
       "      <td>2000.000000</td>\n",
       "      <td>100000.000000</td>\n",
       "      <td>806.000000</td>\n",
       "      <td>84.000000</td>\n",
       "    </tr>\n",
       "  </tbody>\n",
       "</table>\n",
       "</div>"
      ],
      "text/plain": [
       "            cont1       cont2       cont3      cont4        cont5  \\\n",
       "count  678.000000  690.000000  690.000000  690.00000   677.000000   \n",
       "mean    31.568171    4.758725    2.223406    2.40000   184.014771   \n",
       "std     11.957862    4.978163    3.346513    4.86294   173.806768   \n",
       "min     13.750000    0.000000    0.000000    0.00000     0.000000   \n",
       "25%     22.602500    1.000000    0.165000    0.00000    75.000000   \n",
       "50%     28.460000    2.750000    1.000000    0.00000   160.000000   \n",
       "75%     38.230000    7.207500    2.625000    3.00000   276.000000   \n",
       "max     80.250000   28.000000   28.500000   67.00000  2000.000000   \n",
       "\n",
       "               cont6  credit.score        ages  \n",
       "count     690.000000    690.000000  690.000000  \n",
       "mean     1017.385507    696.385130   39.673913  \n",
       "std      5210.102598     41.926375   11.735203  \n",
       "min         0.000000    583.660000   11.000000  \n",
       "25%         0.000000    666.747500   31.000000  \n",
       "50%         5.000000    697.285000   38.000000  \n",
       "75%       395.500000    726.355000   48.000000  \n",
       "max    100000.000000    806.000000   84.000000  "
      ]
     },
     "execution_count": 69,
     "metadata": {},
     "output_type": "execute_result"
    }
   ],
   "source": [
    "df.describe()"
   ]
  },
  {
   "cell_type": "code",
   "execution_count": 72,
   "metadata": {},
   "outputs": [
    {
     "data": {
      "text/plain": [
       "cont1            28.460\n",
       "cont2             2.750\n",
       "cont3             1.000\n",
       "cont4             0.000\n",
       "cont5           160.000\n",
       "cont6             5.000\n",
       "credit.score    697.285\n",
       "ages             38.000\n",
       "dtype: float64"
      ]
     },
     "execution_count": 72,
     "metadata": {},
     "output_type": "execute_result"
    }
   ],
   "source": [
    "df.median()"
   ]
  },
  {
   "cell_type": "code",
   "execution_count": 87,
   "metadata": {},
   "outputs": [
    {
     "data": {
      "text/plain": [
       "0      30.83\n",
       "1      58.67\n",
       "2      24.50\n",
       "3      27.83\n",
       "4      20.17\n",
       "       ...  \n",
       "685    21.08\n",
       "686    22.67\n",
       "687    25.25\n",
       "688    17.92\n",
       "689    35.00\n",
       "Name: cont1, Length: 690, dtype: float64"
      ]
     },
     "execution_count": 87,
     "metadata": {},
     "output_type": "execute_result"
    }
   ],
   "source": [
    "from scipy import stats \n",
    "df_copy['cont1']"
   ]
  },
  {
   "cell_type": "code",
   "execution_count": 101,
   "metadata": {},
   "outputs": [
    {
     "data": {
      "text/plain": [
       "0     -0.061777\n",
       "1      2.268118\n",
       "2     -0.591526\n",
       "3     -0.312843\n",
       "4     -0.953898\n",
       "         ...   \n",
       "685   -0.877742\n",
       "686   -0.744677\n",
       "687   -0.528760\n",
       "688   -1.142198\n",
       "689    0.287205\n",
       "Name: cont1, Length: 690, dtype: float64"
      ]
     },
     "execution_count": 101,
     "metadata": {},
     "output_type": "execute_result"
    }
   ],
   "source": [
    "#z-score normalization\n",
    "df2 = df.copy()\n",
    "columns = list(df2.columns)\n",
    "df2[columns]\n",
    "df2['cont1'] = (df2['cont1'] - df2['cont1'].mean())/df2['cont1'].std(ddof=0)\n",
    "df2['cont1']"
   ]
  },
  {
   "cell_type": "code",
   "execution_count": 131,
   "metadata": {},
   "outputs": [
    {
     "name": "stdout",
     "output_type": "stream",
     "text": [
      "4.0741202478115826\n",
      "-1.4911800408935048\n",
      "Old Max Value 80.25\n",
      "Old Min Value 13.75\n"
     ]
    }
   ],
   "source": [
    "#New Max/Min values after z-score normalization\n",
    "print(df2['cont1'].max())\n",
    "print(df2['cont1'].min())\n",
    "print(\"Old Max Value\",df['cont1'].max())\n",
    "print(\"Old Min Value\",df['cont1'].min())"
   ]
  },
  {
   "cell_type": "code",
   "execution_count": 102,
   "metadata": {},
   "outputs": [
    {
     "data": {
      "text/plain": [
       "array([[<AxesSubplot:title={'center':'cont1'}>]], dtype=object)"
      ]
     },
     "execution_count": 102,
     "metadata": {},
     "output_type": "execute_result"
    },
    {
     "data": {
      "image/png": "[encoded data removed]",
      "text/plain": [
       "<Figure size 432x288 with 1 Axes>"
      ]
     },
     "metadata": {
      "needs_background": "light"
     },
     "output_type": "display_data"
    }
   ],
   "source": [
    "df2.hist(column=[\"cont1\"]) "
   ]
  },
  {
   "cell_type": "code",
   "execution_count": 103,
   "metadata": {},
   "outputs": [
    {
     "data": {
      "text/plain": [
       "array([[<AxesSubplot:title={'center':'cont1'}>]], dtype=object)"
      ]
     },
     "execution_count": 103,
     "metadata": {},
     "output_type": "execute_result"
    },
    {
     "data": {
      "image/png": "[encoded data removed]",
      "text/plain": [
       "<Figure size 432x288 with 1 Axes>"
      ]
     },
     "metadata": {
      "needs_background": "light"
     },
     "output_type": "display_data"
    }
   ],
   "source": [
    "df.hist(column=[\"cont1\"]) "
   ]
  },
  {
   "cell_type": "code",
   "execution_count": 125,
   "metadata": {},
   "outputs": [
    {
     "data": {
      "text/plain": [
       "0      0.000000\n",
       "1      0.159286\n",
       "2      0.017857\n",
       "3      0.055000\n",
       "4      0.200893\n",
       "         ...   \n",
       "685    0.360179\n",
       "686    0.026786\n",
       "687    0.482143\n",
       "688    0.007321\n",
       "689    0.120536\n",
       "Name: cont2, Length: 690, dtype: float64"
      ]
     },
     "execution_count": 125,
     "metadata": {},
     "output_type": "execute_result"
    }
   ],
   "source": [
    "def min_max_scaling(df):\n",
    "    # copy the dataframe\n",
    "    df_norm = df.copy()\n",
    "    df_norm['cont2'] = (df_norm['cont2'] - df_norm['cont2'].min()) / (df_norm['cont2'].max() - df_norm['cont2'].min())   \n",
    "    return df_norm\n",
    "# call the min_max_scaling function\n",
    "df_cont2_normalized = min_max_scaling(df)\n",
    "df_cont2_normalized['cont2']"
   ]
  },
  {
   "cell_type": "code",
   "execution_count": 112,
   "metadata": {},
   "outputs": [
    {
     "data": {
      "text/plain": [
       "array([[<AxesSubplot:title={'center':'cont2'}>]], dtype=object)"
      ]
     },
     "execution_count": 112,
     "metadata": {},
     "output_type": "execute_result"
    },
    {
     "data": {
      "image/png": "[encoded data removed]",
      "text/plain": [
       "<Figure size 432x288 with 1 Axes>"
      ]
     },
     "metadata": {
      "needs_background": "light"
     },
     "output_type": "display_data"
    }
   ],
   "source": [
    "df_cont2_normalized.hist(column=[\"cont2\"]) "
   ]
  },
  {
   "cell_type": "code",
   "execution_count": 114,
   "metadata": {},
   "outputs": [
    {
     "data": {
      "text/plain": [
       "array([[<AxesSubplot:title={'center':'cont2'}>]], dtype=object)"
      ]
     },
     "execution_count": 114,
     "metadata": {},
     "output_type": "execute_result"
    },
    {
     "data": {
      "image/png": "[encoded data removed]",
      "text/plain": [
       "<Figure size 432x288 with 1 Axes>"
      ]
     },
     "metadata": {
      "needs_background": "light"
     },
     "output_type": "display_data"
    }
   ],
   "source": [
    "df.hist(column=[\"cont2\"]) "
   ]
  },
  {
   "cell_type": "code",
   "execution_count": 120,
   "metadata": {},
   "outputs": [
    {
     "data": {
      "text/plain": [
       "0      0.000125\n",
       "1      0.000304\n",
       "2      0.000150\n",
       "3      0.000375\n",
       "4      0.000171\n",
       "         ...   \n",
       "685    0.000125\n",
       "686    0.000200\n",
       "687    0.000200\n",
       "688    0.000004\n",
       "689    0.000829\n",
       "Name: cont3, Length: 690, dtype: float64"
      ]
     },
     "execution_count": 120,
     "metadata": {},
     "output_type": "execute_result"
    }
   ],
   "source": [
    "df3 = df.copy()\n",
    "def Dec_scale(df):\n",
    "        p = df3['cont3'].max()\n",
    "        q = len(str(abs(p)))\n",
    "        df3['cont3'] = df3['cont3']/10**q \n",
    "        \n",
    "Dec_scale(df3['cont3'])\n",
    "df3['cont3']"
   ]
  },
  {
   "cell_type": "code",
   "execution_count": 122,
   "metadata": {},
   "outputs": [
    {
     "data": {
      "text/plain": [
       "array([[<AxesSubplot:title={'center':'cont3'}>]], dtype=object)"
      ]
     },
     "execution_count": 122,
     "metadata": {},
     "output_type": "execute_result"
    },
    {
     "data": {
      "image/png": "[encoded data removed]",
      "text/plain": [
       "<Figure size 432x288 with 1 Axes>"
      ]
     },
     "metadata": {
      "needs_background": "light"
     },
     "output_type": "display_data"
    }
   ],
   "source": [
    "df.hist(column=[\"cont3\"]) "
   ]
  },
  {
   "cell_type": "code",
   "execution_count": 123,
   "metadata": {},
   "outputs": [
    {
     "data": {
      "text/plain": [
       "array([[<AxesSubplot:title={'center':'cont3'}>]], dtype=object)"
      ]
     },
     "execution_count": 123,
     "metadata": {},
     "output_type": "execute_result"
    },
    {
     "data": {
      "image/png": "[encoded data removed]",
      "text/plain": [
       "<Figure size 432x288 with 1 Axes>"
      ]
     },
     "metadata": {
      "needs_background": "light"
     },
     "output_type": "display_data"
    }
   ],
   "source": [
    "df3.hist(column=[\"cont3\"]) "
   ]
  },
  {
   "cell_type": "code",
   "execution_count": 32,
   "metadata": {},
   "outputs": [
    {
     "ename": "NameError",
     "evalue": "name 'df3' is not defined",
     "output_type": "error",
     "traceback": [
      "\u001b[1;31m---------------------------------------------------------------------------\u001b[0m",
      "\u001b[1;31mNameError\u001b[0m                                 Traceback (most recent call last)",
      "\u001b[1;32m<ipython-input-32-3357e37d2add>\u001b[0m in \u001b[0;36m<module>\u001b[1;34m\u001b[0m\n\u001b[1;32m----> 1\u001b[1;33m \u001b[0mdf3\u001b[0m\u001b[1;33m\u001b[0m\u001b[1;33m\u001b[0m\u001b[0m\n\u001b[0m",
      "\u001b[1;31mNameError\u001b[0m: name 'df3' is not defined"
     ]
    }
   ],
   "source": [
    "df3"
   ]
  },
  {
   "cell_type": "code",
   "execution_count": 42,
   "metadata": {},
   "outputs": [],
   "source": [
    "data = df['cont1'].tolist()"
   ]
  },
  {
   "cell_type": "code",
   "execution_count": 82,
   "metadata": {},
   "outputs": [],
   "source": [
    "#Binning \n",
    "\n",
    "def equiwidthbinning(arr1, m): \n",
    "    a = len(arr1) \n",
    "    w = int((max(arr1) - min(arr1)) / m) \n",
    "    min1 = min(arr1) \n",
    "    arr = [] \n",
    "    for i in range(0, m + 1): \n",
    "        arr = arr + [min1 + w * i] \n",
    "    arri=[] \n",
    "      \n",
    "    for i in range(0, m): \n",
    "        temp = [] \n",
    "        for j in arr1: \n",
    "            if j >= arr[i] and j <= arr[i+1]: \n",
    "                temp += [j] \n",
    "        arri += [temp] \n",
    "    return arri"
   ]
  },
  {
   "cell_type": "code",
   "execution_count": 87,
   "metadata": {},
   "outputs": [
    {
     "name": "stdout",
     "output_type": "stream",
     "text": [
      "[[24.5, 27.83, 20.17, 22.92, 22.08, 28.25, 23.25, 21.83, 19.17, 25.0, 23.25, 27.42, 15.83, 29.25, 22.58, 27.83, 27.25, 23.0, 27.75, 28.92, 29.67, 23.92, 25.75, 26.0, 23.33, 23.17, 23.42, 20.42, 26.67, 25.5, 19.42, 20.67, 19.17, 21.67, 21.5, 27.67, 27.25, 25.67, 28.75, 28.58, 23.0, 22.5, 28.5, 18.67, 25.0, 27.83, 28.75, 25.0, 19.75, 29.17, 24.5, 24.58, 20.67, 25.42, 20.75, 25.67, 24.75, 23.5, 22.75, 28.42, 20.42, 18.83, 26.92, 22.33, 27.25, 23.25, 23.08, 21.67, 28.5, 28.0, 27.67, 25.08, 19.33, 25.08, 22.67, 27.0, 25.0, 26.08, 18.42, 20.17, 21.25, 20.67, 22.42, 28.67, 21.33, 22.67, 28.25, 27.58, 22.58, 24.08, 20.75, 28.67, 24.33, 23.08, 26.67, 18.92, 17.58, 18.83, 23.25, 18.08, 22.5, 19.67, 22.08, 25.17, 27.67, 20.67, 26.17, 21.33, 20.5, 28.33, 18.5, 19.67, 24.5, 21.83, 17.83, 23.17, 18.17, 20.0, 20.0, 20.75, 24.5, 20.42, 17.08, 18.33, 18.0, 18.08, 18.58, 19.17, 18.17, 16.25, 21.17, 23.92, 17.67, 16.5, 23.25, 17.58, 29.5, 18.83, 21.75, 23.0, 18.25, 25.42, 16.08, 16.33, 22.17, 18.25, 23.42, 15.92, 24.75, 23.5, 18.58, 27.75, 24.83, 19.0, 16.33, 18.58, 16.25, 23.0, 21.17, 17.5, 19.17, 21.25, 18.08, 29.5, 25.25, 27.67, 28.0, 26.92, 26.75, 27.83, 26.17, 22.17, 22.5, 16.0, 19.5, 23.08, 26.83, 16.92, 24.42, 22.75, 23.58, 21.42, 26.33, 26.25, 28.17, 20.83, 28.67, 20.67, 22.67, 24.33, 22.08, 22.58, 21.17, 26.67, 22.92, 15.17, 27.42, 24.75, 23.58, 26.17, 20.75, 28.92, 22.67, 19.58, 16.0, 17.08, 25.17, 22.67, 22.25, 22.25, 22.5, 23.58, 26.58, 20.42, 29.42, 26.17, 24.58, 27.67, 22.92, 21.83, 25.25, 19.0, 19.58, 27.17, 25.92, 23.08, 17.25, 17.67, 16.5, 27.33, 20.0, 29.75, 29.67, 25.67, 24.5, 24.08, 21.92, 23.0, 27.58, 22.08, 16.33, 21.92, 21.08, 17.42, 19.17, 20.67, 26.75, 23.58, 22.75, 26.5, 16.92, 23.5, 17.33, 23.75, 28.17, 24.5, 18.83, 24.17, 20.5, 18.83, 19.17, 25.0, 20.17, 25.75, 20.42, 28.25, 28.75, 18.92, 24.75, 21.0, 13.75, 20.25, 22.67, 16.08, 28.17, 20.42, 22.83, 22.5, 28.58, 25.33, 24.58, 24.92, 19.42, 19.67, 23.58, 23.92, 22.42, 29.58, 22.83, 25.0, 26.75, 23.33, 24.42, 20.83, 23.08, 25.17, 21.0, 21.92, 20.33, 25.17, 28.08, 26.67, 25.33, 27.0, 25.75, 21.5, 20.08, 20.5, 29.5, 20.08, 23.42, 29.58, 16.17, 20.0, 27.58, 22.0, 19.33, 29.42, 22.67, 29.58, 18.42, 22.17, 22.67, 18.83, 21.58, 23.75, 29.25, 19.58, 22.92, 27.25, 23.75, 18.17, 19.5, 28.58, 20.83, 24.08, 25.58, 15.83, 22.5, 21.5, 23.58, 21.08, 25.67, 15.75, 28.58, 22.25, 23.5, 21.75, 17.92, 25.83, 29.5, 19.42, 17.92, 20.08, 19.5, 27.83, 17.08, 21.08, 22.67, 25.25, 17.92], [30.83, 32.08, 33.17, 42.5, 29.92, 38.25, 36.67, 41.17, 42.08, 42.0, 36.75, 34.17, 39.58, 41.0, 31.92, 41.5, 37.42, 34.92, 34.25, 44.33, 35.17, 43.25, 31.67, 34.17, 36.0, 35.17, 32.33, 38.58, 44.25, 44.83, 34.08, 39.83, 37.17, 34.0, 31.42, 37.5, 35.25, 40.92, 33.75, 37.75, 39.92, 44.17, 34.92, 34.42, 36.25, 32.67, 39.92, 33.58, 31.25, 43.0, 32.83, 40.33, 30.5, 37.33, 32.75, 34.08, 44.0, 32.0, 40.83, 32.33, 36.67, 37.5, 41.33, 40.0, 40.58, 33.08, 42.0, 41.75, 34.5, 33.17, 41.33, 36.33, 35.42, 35.17, 39.5, 39.33, 41.17, 37.75, 33.5, 42.83, 38.17, 33.17, 45.0, 40.25, 41.42, 32.75, 32.0, 32.33, 38.25, 30.67, 35.75, 31.92, 32.92, 31.75, 36.75, 33.67, 33.67, 30.17, 40.83, 34.83, 33.25, 34.08, 34.75, 34.83, 33.25, 39.08, 42.75, 33.75, 38.92, 32.25, 30.75, 36.67, 41.17, 32.42, 36.75, 30.25, 42.83, 39.42, 33.0, 45.0, 34.42, 33.58, 43.17, 34.0, 39.92, 41.17, 33.08, 29.83, 31.0, 34.0, 31.25, 40.58, 38.42, 35.0, 33.67, 37.5, 33.58, 39.58, 30.58, 31.25, 39.5, 36.5, 29.75, 36.17, 36.17, 36.58, 31.08, 30.42, 39.17, 34.67, 45.33, 39.25, 39.0, 31.33, 30.67, 44.33, 39.17, 30.0, 45.17, 41.58, 43.25, 43.17, 40.92, 31.83, 33.92, 35.25, 34.25, 42.75, 36.33, 30.08, 44.25, 33.17, 34.75, 38.58, 41.92, 32.17, 42.17, 43.08, 35.75, 32.25, 30.17, 39.17, 39.08, 31.67, 41.0, 32.67, 30.17, 34.17, 38.67, 42.25, 29.83, 32.33, 38.33, 32.25, 36.08, 38.75, 32.42, 40.92, 35.58, 34.17, 33.17, 31.58, 36.17, 37.33, 35.17, 38.92, 29.83, 32.08, 31.08, 31.83, 30.33, 37.33, 41.58, 30.58, 36.42, 40.58, 35.0], [58.67, 54.42, 48.08, 45.83, 47.75, 47.0, 56.58, 57.42, 49.5, 54.58, 56.42, 54.33, 56.75, 49.58, 49.0, 52.33, 54.83, 52.5, 57.83, 47.67, 47.42, 48.58, 56.5, 52.83, 46.67, 58.33, 60.58, 56.0, 49.83, 47.67, 57.08, 48.75, 48.17, 60.08, 48.17, 55.92, 53.92, 50.08, 47.42, 58.42, 48.25, 52.17, 48.17, 50.75, 59.67, 57.58, 48.75, 48.58, 47.33, 56.83, 51.92, 49.17, 51.83, 58.58, 53.33, 52.42, 47.25, 46.0, 60.92, 57.08, 55.75, 48.33, 51.33, 51.42, 59.5, 48.5, 51.58, 46.08, 47.83, 52.5, 48.08, 51.83, 47.17, 50.25], [62.5, 67.75, 68.67, 65.42, 69.17, 62.75, 63.33, 69.5, 74.83, 64.08, 76.75, 65.17, 73.42, 64.08]]\n"
     ]
    }
   ],
   "source": [
    "v_bins = equiwidthbinning(data, 4)\n",
    "print(equiwidthbinning(data, 4))"
   ]
  },
  {
   "cell_type": "code",
   "execution_count": null,
   "metadata": {},
   "outputs": [],
   "source": [
    "v_bins = equiwidthbinning(data, 4)"
   ]
  },
  {
   "cell_type": "code",
   "execution_count": 91,
   "metadata": {},
   "outputs": [
    {
     "data": {
      "image/png": "[encoded data removed]",
      "text/plain": [
       "<Figure size 432x288 with 1 Axes>"
      ]
     },
     "metadata": {
      "needs_background": "light"
     },
     "output_type": "display_data"
    },
    {
     "name": "stdout",
     "output_type": "stream",
     "text": [
      "The range of the bins are [13.75  30.375 47.    63.625 80.25 ]\n",
      "Frequency of the bins are [372. 209.  73.  12.]\n"
     ]
    }
   ],
   "source": [
    "n, bins, patches = plt.hist(data,bins = 4, edgecolor='black')\n",
    "plt.show()\n",
    "\n",
    "#display bin boundaries and frequency per bin \n",
    "print(\"The range of the bins are\",bins)\n",
    "print(\"Frequency of the bins are\",n)"
   ]
  },
  {
   "cell_type": "code",
   "execution_count": 70,
   "metadata": {},
   "outputs": [
    {
     "data": {
      "image/png": "[encoded data removed]",
      "text/plain": [
       "<Figure size 432x288 with 1 Axes>"
      ]
     },
     "metadata": {
      "needs_background": "light"
     },
     "output_type": "display_data"
    },
    {
     "data": {
      "text/plain": [
       "(array([13.75 , 19.17 , 21.598, 23.25 , 25.616, 28.5  , 32.134, 35.452,\n",
       "        40.902, 48.58 , 80.25 ]),\n",
       " array([62., 72., 63., 70., 65., 68., 67., 66., 66., 67.]))"
      ]
     },
     "execution_count": 70,
     "metadata": {},
     "output_type": "execute_result"
    }
   ],
   "source": [
    "def equalObs(x, nbin):\n",
    "    nlen = len(x)\n",
    "    return np.interp(np.linspace(0, nlen, nbin + 1),\n",
    "                     np.arange(nlen),\n",
    "                     np.sort(x))\n",
    "\n",
    "#create histogram with equal-frequency bins \n",
    "n, bins, patches = plt.hist(data, equalObs(data, 10), edgecolor='black')\n",
    "plt.show()\n",
    "bins,n"
   ]
  },
  {
   "cell_type": "code",
   "execution_count": 99,
   "metadata": {},
   "outputs": [
    {
     "data": {
      "text/html": [
       "<div>\n",
       "<style scoped>\n",
       "    .dataframe tbody tr th:only-of-type {\n",
       "        vertical-align: middle;\n",
       "    }\n",
       "\n",
       "    .dataframe tbody tr th {\n",
       "        vertical-align: top;\n",
       "    }\n",
       "\n",
       "    .dataframe thead th {\n",
       "        text-align: right;\n",
       "    }\n",
       "</style>\n",
       "<table border=\"1\" class=\"dataframe\">\n",
       "  <thead>\n",
       "    <tr style=\"text-align: right;\">\n",
       "      <th></th>\n",
       "      <th>cont1</th>\n",
       "      <th>cont2</th>\n",
       "      <th>cont3</th>\n",
       "      <th>bool1</th>\n",
       "      <th>bool2</th>\n",
       "      <th>cont4</th>\n",
       "      <th>bool3</th>\n",
       "      <th>cont5</th>\n",
       "      <th>cont6</th>\n",
       "      <th>approval</th>\n",
       "      <th>credit.score</th>\n",
       "      <th>ages</th>\n",
       "    </tr>\n",
       "  </thead>\n",
       "  <tbody>\n",
       "    <tr>\n",
       "      <th>0</th>\n",
       "      <td>30.83</td>\n",
       "      <td>0.000</td>\n",
       "      <td>1.25</td>\n",
       "      <td>t</td>\n",
       "      <td>t</td>\n",
       "      <td>1</td>\n",
       "      <td>f</td>\n",
       "      <td>202.0</td>\n",
       "      <td>0</td>\n",
       "      <td>+</td>\n",
       "      <td>664.60</td>\n",
       "      <td>42</td>\n",
       "    </tr>\n",
       "    <tr>\n",
       "      <th>1</th>\n",
       "      <td>58.67</td>\n",
       "      <td>4.460</td>\n",
       "      <td>3.04</td>\n",
       "      <td>t</td>\n",
       "      <td>t</td>\n",
       "      <td>6</td>\n",
       "      <td>f</td>\n",
       "      <td>43.0</td>\n",
       "      <td>560</td>\n",
       "      <td>+</td>\n",
       "      <td>693.88</td>\n",
       "      <td>54</td>\n",
       "    </tr>\n",
       "    <tr>\n",
       "      <th>2</th>\n",
       "      <td>24.50</td>\n",
       "      <td>0.500</td>\n",
       "      <td>1.50</td>\n",
       "      <td>t</td>\n",
       "      <td>f</td>\n",
       "      <td>0</td>\n",
       "      <td>f</td>\n",
       "      <td>280.0</td>\n",
       "      <td>824</td>\n",
       "      <td>+</td>\n",
       "      <td>621.82</td>\n",
       "      <td>29</td>\n",
       "    </tr>\n",
       "    <tr>\n",
       "      <th>3</th>\n",
       "      <td>27.83</td>\n",
       "      <td>1.540</td>\n",
       "      <td>3.75</td>\n",
       "      <td>t</td>\n",
       "      <td>t</td>\n",
       "      <td>5</td>\n",
       "      <td>t</td>\n",
       "      <td>100.0</td>\n",
       "      <td>3</td>\n",
       "      <td>+</td>\n",
       "      <td>653.97</td>\n",
       "      <td>58</td>\n",
       "    </tr>\n",
       "    <tr>\n",
       "      <th>4</th>\n",
       "      <td>20.17</td>\n",
       "      <td>5.625</td>\n",
       "      <td>1.71</td>\n",
       "      <td>t</td>\n",
       "      <td>f</td>\n",
       "      <td>0</td>\n",
       "      <td>f</td>\n",
       "      <td>120.0</td>\n",
       "      <td>0</td>\n",
       "      <td>+</td>\n",
       "      <td>670.26</td>\n",
       "      <td>65</td>\n",
       "    </tr>\n",
       "    <tr>\n",
       "      <th>...</th>\n",
       "      <td>...</td>\n",
       "      <td>...</td>\n",
       "      <td>...</td>\n",
       "      <td>...</td>\n",
       "      <td>...</td>\n",
       "      <td>...</td>\n",
       "      <td>...</td>\n",
       "      <td>...</td>\n",
       "      <td>...</td>\n",
       "      <td>...</td>\n",
       "      <td>...</td>\n",
       "      <td>...</td>\n",
       "    </tr>\n",
       "    <tr>\n",
       "      <th>685</th>\n",
       "      <td>21.08</td>\n",
       "      <td>10.085</td>\n",
       "      <td>1.25</td>\n",
       "      <td>f</td>\n",
       "      <td>f</td>\n",
       "      <td>0</td>\n",
       "      <td>f</td>\n",
       "      <td>260.0</td>\n",
       "      <td>0</td>\n",
       "      <td>-</td>\n",
       "      <td>736.22</td>\n",
       "      <td>34</td>\n",
       "    </tr>\n",
       "    <tr>\n",
       "      <th>686</th>\n",
       "      <td>22.67</td>\n",
       "      <td>0.750</td>\n",
       "      <td>2.00</td>\n",
       "      <td>f</td>\n",
       "      <td>t</td>\n",
       "      <td>2</td>\n",
       "      <td>t</td>\n",
       "      <td>200.0</td>\n",
       "      <td>394</td>\n",
       "      <td>-</td>\n",
       "      <td>643.56</td>\n",
       "      <td>46</td>\n",
       "    </tr>\n",
       "    <tr>\n",
       "      <th>687</th>\n",
       "      <td>25.25</td>\n",
       "      <td>13.500</td>\n",
       "      <td>2.00</td>\n",
       "      <td>f</td>\n",
       "      <td>t</td>\n",
       "      <td>1</td>\n",
       "      <td>t</td>\n",
       "      <td>200.0</td>\n",
       "      <td>1</td>\n",
       "      <td>-</td>\n",
       "      <td>665.36</td>\n",
       "      <td>46</td>\n",
       "    </tr>\n",
       "    <tr>\n",
       "      <th>688</th>\n",
       "      <td>17.92</td>\n",
       "      <td>0.205</td>\n",
       "      <td>0.04</td>\n",
       "      <td>f</td>\n",
       "      <td>f</td>\n",
       "      <td>0</td>\n",
       "      <td>f</td>\n",
       "      <td>280.0</td>\n",
       "      <td>750</td>\n",
       "      <td>-</td>\n",
       "      <td>716.15</td>\n",
       "      <td>42</td>\n",
       "    </tr>\n",
       "    <tr>\n",
       "      <th>689</th>\n",
       "      <td>35.00</td>\n",
       "      <td>3.375</td>\n",
       "      <td>8.29</td>\n",
       "      <td>f</td>\n",
       "      <td>f</td>\n",
       "      <td>0</td>\n",
       "      <td>t</td>\n",
       "      <td>0.0</td>\n",
       "      <td>0</td>\n",
       "      <td>-</td>\n",
       "      <td>739.94</td>\n",
       "      <td>37</td>\n",
       "    </tr>\n",
       "  </tbody>\n",
       "</table>\n",
       "<p>666 rows × 12 columns</p>\n",
       "</div>"
      ],
      "text/plain": [
       "     cont1   cont2  cont3 bool1 bool2  cont4 bool3  cont5  cont6 approval  \\\n",
       "0    30.83   0.000   1.25     t     t      1     f  202.0      0        +   \n",
       "1    58.67   4.460   3.04     t     t      6     f   43.0    560        +   \n",
       "2    24.50   0.500   1.50     t     f      0     f  280.0    824        +   \n",
       "3    27.83   1.540   3.75     t     t      5     t  100.0      3        +   \n",
       "4    20.17   5.625   1.71     t     f      0     f  120.0      0        +   \n",
       "..     ...     ...    ...   ...   ...    ...   ...    ...    ...      ...   \n",
       "685  21.08  10.085   1.25     f     f      0     f  260.0      0        -   \n",
       "686  22.67   0.750   2.00     f     t      2     t  200.0    394        -   \n",
       "687  25.25  13.500   2.00     f     t      1     t  200.0      1        -   \n",
       "688  17.92   0.205   0.04     f     f      0     f  280.0    750        -   \n",
       "689  35.00   3.375   8.29     f     f      0     t    0.0      0        -   \n",
       "\n",
       "     credit.score  ages  \n",
       "0          664.60    42  \n",
       "1          693.88    54  \n",
       "2          621.82    29  \n",
       "3          653.97    58  \n",
       "4          670.26    65  \n",
       "..            ...   ...  \n",
       "685        736.22    34  \n",
       "686        643.56    46  \n",
       "687        665.36    46  \n",
       "688        716.15    42  \n",
       "689        739.94    37  \n",
       "\n",
       "[666 rows x 12 columns]"
      ]
     },
     "execution_count": 99,
     "metadata": {},
     "output_type": "execute_result"
    }
   ],
   "source": [
    "df3 = df.copy()\n",
    "df3"
   ]
  },
  {
   "cell_type": "code",
   "execution_count": 100,
   "metadata": {},
   "outputs": [
    {
     "data": {
      "text/html": [
       "<div>\n",
       "<style scoped>\n",
       "    .dataframe tbody tr th:only-of-type {\n",
       "        vertical-align: middle;\n",
       "    }\n",
       "\n",
       "    .dataframe tbody tr th {\n",
       "        vertical-align: top;\n",
       "    }\n",
       "\n",
       "    .dataframe thead th {\n",
       "        text-align: right;\n",
       "    }\n",
       "</style>\n",
       "<table border=\"1\" class=\"dataframe\">\n",
       "  <thead>\n",
       "    <tr style=\"text-align: right;\">\n",
       "      <th></th>\n",
       "      <th>cont1</th>\n",
       "      <th>cont2</th>\n",
       "      <th>cont3</th>\n",
       "      <th>bool1</th>\n",
       "      <th>bool2</th>\n",
       "      <th>cont4</th>\n",
       "      <th>bool3</th>\n",
       "      <th>cont5</th>\n",
       "      <th>cont6</th>\n",
       "      <th>approval</th>\n",
       "      <th>credit.score</th>\n",
       "      <th>ages</th>\n",
       "      <th>v_bins</th>\n",
       "    </tr>\n",
       "  </thead>\n",
       "  <tbody>\n",
       "    <tr>\n",
       "      <th>0</th>\n",
       "      <td>30.83</td>\n",
       "      <td>0.000</td>\n",
       "      <td>1.25</td>\n",
       "      <td>t</td>\n",
       "      <td>t</td>\n",
       "      <td>1</td>\n",
       "      <td>f</td>\n",
       "      <td>202.0</td>\n",
       "      <td>0</td>\n",
       "      <td>+</td>\n",
       "      <td>664.60</td>\n",
       "      <td>42</td>\n",
       "      <td>Yellow</td>\n",
       "    </tr>\n",
       "    <tr>\n",
       "      <th>1</th>\n",
       "      <td>58.67</td>\n",
       "      <td>4.460</td>\n",
       "      <td>3.04</td>\n",
       "      <td>t</td>\n",
       "      <td>t</td>\n",
       "      <td>6</td>\n",
       "      <td>f</td>\n",
       "      <td>43.0</td>\n",
       "      <td>560</td>\n",
       "      <td>+</td>\n",
       "      <td>693.88</td>\n",
       "      <td>54</td>\n",
       "      <td>Blue</td>\n",
       "    </tr>\n",
       "    <tr>\n",
       "      <th>2</th>\n",
       "      <td>24.50</td>\n",
       "      <td>0.500</td>\n",
       "      <td>1.50</td>\n",
       "      <td>t</td>\n",
       "      <td>f</td>\n",
       "      <td>0</td>\n",
       "      <td>f</td>\n",
       "      <td>280.0</td>\n",
       "      <td>824</td>\n",
       "      <td>+</td>\n",
       "      <td>621.82</td>\n",
       "      <td>29</td>\n",
       "      <td>Red</td>\n",
       "    </tr>\n",
       "    <tr>\n",
       "      <th>3</th>\n",
       "      <td>27.83</td>\n",
       "      <td>1.540</td>\n",
       "      <td>3.75</td>\n",
       "      <td>t</td>\n",
       "      <td>t</td>\n",
       "      <td>5</td>\n",
       "      <td>t</td>\n",
       "      <td>100.0</td>\n",
       "      <td>3</td>\n",
       "      <td>+</td>\n",
       "      <td>653.97</td>\n",
       "      <td>58</td>\n",
       "      <td>Red</td>\n",
       "    </tr>\n",
       "    <tr>\n",
       "      <th>4</th>\n",
       "      <td>20.17</td>\n",
       "      <td>5.625</td>\n",
       "      <td>1.71</td>\n",
       "      <td>t</td>\n",
       "      <td>f</td>\n",
       "      <td>0</td>\n",
       "      <td>f</td>\n",
       "      <td>120.0</td>\n",
       "      <td>0</td>\n",
       "      <td>+</td>\n",
       "      <td>670.26</td>\n",
       "      <td>65</td>\n",
       "      <td>Red</td>\n",
       "    </tr>\n",
       "    <tr>\n",
       "      <th>...</th>\n",
       "      <td>...</td>\n",
       "      <td>...</td>\n",
       "      <td>...</td>\n",
       "      <td>...</td>\n",
       "      <td>...</td>\n",
       "      <td>...</td>\n",
       "      <td>...</td>\n",
       "      <td>...</td>\n",
       "      <td>...</td>\n",
       "      <td>...</td>\n",
       "      <td>...</td>\n",
       "      <td>...</td>\n",
       "      <td>...</td>\n",
       "    </tr>\n",
       "    <tr>\n",
       "      <th>685</th>\n",
       "      <td>21.08</td>\n",
       "      <td>10.085</td>\n",
       "      <td>1.25</td>\n",
       "      <td>f</td>\n",
       "      <td>f</td>\n",
       "      <td>0</td>\n",
       "      <td>f</td>\n",
       "      <td>260.0</td>\n",
       "      <td>0</td>\n",
       "      <td>-</td>\n",
       "      <td>736.22</td>\n",
       "      <td>34</td>\n",
       "      <td>Red</td>\n",
       "    </tr>\n",
       "    <tr>\n",
       "      <th>686</th>\n",
       "      <td>22.67</td>\n",
       "      <td>0.750</td>\n",
       "      <td>2.00</td>\n",
       "      <td>f</td>\n",
       "      <td>t</td>\n",
       "      <td>2</td>\n",
       "      <td>t</td>\n",
       "      <td>200.0</td>\n",
       "      <td>394</td>\n",
       "      <td>-</td>\n",
       "      <td>643.56</td>\n",
       "      <td>46</td>\n",
       "      <td>Red</td>\n",
       "    </tr>\n",
       "    <tr>\n",
       "      <th>687</th>\n",
       "      <td>25.25</td>\n",
       "      <td>13.500</td>\n",
       "      <td>2.00</td>\n",
       "      <td>f</td>\n",
       "      <td>t</td>\n",
       "      <td>1</td>\n",
       "      <td>t</td>\n",
       "      <td>200.0</td>\n",
       "      <td>1</td>\n",
       "      <td>-</td>\n",
       "      <td>665.36</td>\n",
       "      <td>46</td>\n",
       "      <td>Red</td>\n",
       "    </tr>\n",
       "    <tr>\n",
       "      <th>688</th>\n",
       "      <td>17.92</td>\n",
       "      <td>0.205</td>\n",
       "      <td>0.04</td>\n",
       "      <td>f</td>\n",
       "      <td>f</td>\n",
       "      <td>0</td>\n",
       "      <td>f</td>\n",
       "      <td>280.0</td>\n",
       "      <td>750</td>\n",
       "      <td>-</td>\n",
       "      <td>716.15</td>\n",
       "      <td>42</td>\n",
       "      <td>Red</td>\n",
       "    </tr>\n",
       "    <tr>\n",
       "      <th>689</th>\n",
       "      <td>35.00</td>\n",
       "      <td>3.375</td>\n",
       "      <td>8.29</td>\n",
       "      <td>f</td>\n",
       "      <td>f</td>\n",
       "      <td>0</td>\n",
       "      <td>t</td>\n",
       "      <td>0.0</td>\n",
       "      <td>0</td>\n",
       "      <td>-</td>\n",
       "      <td>739.94</td>\n",
       "      <td>37</td>\n",
       "      <td>Yellow</td>\n",
       "    </tr>\n",
       "  </tbody>\n",
       "</table>\n",
       "<p>666 rows × 13 columns</p>\n",
       "</div>"
      ],
      "text/plain": [
       "     cont1   cont2  cont3 bool1 bool2  cont4 bool3  cont5  cont6 approval  \\\n",
       "0    30.83   0.000   1.25     t     t      1     f  202.0      0        +   \n",
       "1    58.67   4.460   3.04     t     t      6     f   43.0    560        +   \n",
       "2    24.50   0.500   1.50     t     f      0     f  280.0    824        +   \n",
       "3    27.83   1.540   3.75     t     t      5     t  100.0      3        +   \n",
       "4    20.17   5.625   1.71     t     f      0     f  120.0      0        +   \n",
       "..     ...     ...    ...   ...   ...    ...   ...    ...    ...      ...   \n",
       "685  21.08  10.085   1.25     f     f      0     f  260.0      0        -   \n",
       "686  22.67   0.750   2.00     f     t      2     t  200.0    394        -   \n",
       "687  25.25  13.500   2.00     f     t      1     t  200.0      1        -   \n",
       "688  17.92   0.205   0.04     f     f      0     f  280.0    750        -   \n",
       "689  35.00   3.375   8.29     f     f      0     t    0.0      0        -   \n",
       "\n",
       "     credit.score  ages  v_bins  \n",
       "0          664.60    42  Yellow  \n",
       "1          693.88    54    Blue  \n",
       "2          621.82    29     Red  \n",
       "3          653.97    58     Red  \n",
       "4          670.26    65     Red  \n",
       "..            ...   ...     ...  \n",
       "685        736.22    34     Red  \n",
       "686        643.56    46     Red  \n",
       "687        665.36    46     Red  \n",
       "688        716.15    42     Red  \n",
       "689        739.94    37  Yellow  \n",
       "\n",
       "[666 rows x 13 columns]"
      ]
     },
     "execution_count": 100,
     "metadata": {},
     "output_type": "execute_result"
    }
   ],
   "source": [
    "cut_labels = ['Red', 'Yellow', 'Blue', 'Green']\n",
    "cut_bins = [13.75, 30.375, 47, 63.625, 80.25]\n",
    "df3['v_bins'] = pd.cut(df3['cont1'], bins=cut_bins, labels=cut_labels)\n",
    "df3"
   ]
  },
  {
   "cell_type": "code",
   "execution_count": 102,
   "metadata": {},
   "outputs": [
    {
     "data": {
      "text/plain": [
       "<AxesSubplot:>"
      ]
     },
     "execution_count": 102,
     "metadata": {},
     "output_type": "execute_result"
    },
    {
     "data": {
      "image/png": "[encoded data removed]",
      "text/plain": [
       "<Figure size 360x216 with 1 Axes>"
      ]
     },
     "metadata": {
      "needs_background": "light"
     },
     "output_type": "display_data"
    }
   ],
   "source": [
    "df3\n",
    "plt.rcParams.update({'font.size': 16})\n",
    "df3['v_bins'].value_counts().plot(kind='bar',figsize=(5,3))"
   ]
  }
 ],
 "metadata": {
  "kernelspec": {
   "display_name": "Python 3",
   "language": "python",
   "name": "python3"
  },
  "language_info": {
   "codemirror_mode": {
    "name": "ipython",
    "version": 3
   },
   "file_extension": ".py",
   "mimetype": "text/x-python",
   "name": "python",
   "nbconvert_exporter": "python",
   "pygments_lexer": "ipython3",
   "version": "3.8.5"
  }
 },
 "nbformat": 4,
 "nbformat_minor": 4
}
